{
 "cells": [
  {
   "cell_type": "markdown",
   "metadata": {},
   "source": [
    "# Inverted Pendulum\n",
    "\n",
    "Observations:\n",
    "* Agents do better without batchnorm, because of the linearity of the objective function\n",
    "* The optimal action is always $action = -state$\n",
    "* With batchnorm, agents lose information about where in state space they are"
   ]
  },
  {
   "cell_type": "code",
   "execution_count": 1,
   "metadata": {},
   "outputs": [],
   "source": [
    "from agentflow.env import VecGymEnv\n",
    "from agentflow.agents import DDPG\n",
    "from agentflow.buffers import BufferMap\n",
    "from agentflow.state import NPrevFramesStateEnv\n",
    "from agentflow.tensorflow.nn import dense_net\n",
    "from agentflow.tensorflow.ops import normalize_ema\n",
    "from agentflow.utils import check_whats_connected\n",
    "import tensorflow as tf\n",
    "import numpy as np\n",
    "import pandas as pd"
   ]
  },
  {
   "cell_type": "code",
   "execution_count": 2,
   "metadata": {},
   "outputs": [
    {
     "name": "stdout",
     "output_type": "stream",
     "text": [
      "Populating the interactive namespace from numpy and matplotlib\n"
     ]
    }
   ],
   "source": [
    "%pylab inline\n",
    "import matplotlib.pyplot as plt\n",
    "import seaborn\n",
    "seaborn.set()"
   ]
  },
  {
   "cell_type": "markdown",
   "metadata": {},
   "source": [
    "## Settings\n"
   ]
  },
  {
   "cell_type": "code",
   "execution_count": 3,
   "metadata": {},
   "outputs": [],
   "source": [
    "env_id = 'Pendulum-v0'\n",
    "dqda_clipping = 1\n",
    "clip_norm = True\n",
    "hidden_dims = 32\n",
    "hidden_layers = 2\n",
    "output_dim = 1\n",
    "batchnorm = True"
   ]
  },
  {
   "cell_type": "markdown",
   "metadata": {},
   "source": [
    "## Build Environment & Agent"
   ]
  },
  {
   "cell_type": "code",
   "execution_count": 4,
   "metadata": {},
   "outputs": [],
   "source": [
    "def dense_net(x,units,layers,batchnorm=True,activation=tf.nn.relu,training=False,**kwargs):\n",
    "\n",
    "    assert isinstance(layers,int) and layers > 0, 'layers should be a positive integer'\n",
    "    assert isinstance(units,int) and units > 0, 'units should be a positive integer'\n",
    "\n",
    "    h = x\n",
    "    for l in range(layers):\n",
    "        h = tf.layers.dense(h,units,**kwargs)\n",
    "        h = activation(h)\n",
    "        \n",
    "        if batchnorm:\n",
    "            BN = tf.layers.BatchNormalization()\n",
    "            h = BN(h,training=training)\n",
    "    return h"
   ]
  },
  {
   "cell_type": "code",
   "execution_count": 5,
   "metadata": {},
   "outputs": [],
   "source": [
    "def build_net_fn(hidden_dims,hidden_layers,output_dim,batchnorm):\n",
    "    def net_fn(state,training=False):\n",
    "        h = state\n",
    "        if batchnorm:\n",
    "            BN = tf.layers.BatchNormalization()\n",
    "            h = BN(h,training=training)\n",
    "        \n",
    "            #with tf.control_dependencies(BN.updates):\n",
    "            h = dense_net(h,hidden_dims,hidden_layers,batchnorm=batchnorm,training=training)\n",
    "        else:\n",
    "            h = dense_net(h,hidden_dims,hidden_layers,batchnorm=False,training=training)\n",
    "            \n",
    "        return tf.layers.dense(h,output_dim)\n",
    "    return net_fn\n",
    "\n",
    "def build_policy_fn(*args,**kwargs):\n",
    "    net_fn = build_net_fn(*args,**kwargs)\n",
    "    def policy_fn(state,training=False):\n",
    "        h = net_fn(state)\n",
    "        return 2*tf.nn.tanh(h)\n",
    "    return policy_fn\n",
    "\n",
    "def build_q_fn(*args,**kwargs):\n",
    "    net_fn = build_net_fn(*args,**kwargs)\n",
    "    def q_fn(state,action,training=False):\n",
    "        h = tf.concat([state,action],axis=1)\n",
    "        return net_fn(h)\n",
    "    return q_fn"
   ]
  },
  {
   "cell_type": "markdown",
   "metadata": {},
   "source": [
    "#### environment"
   ]
  },
  {
   "cell_type": "code",
   "execution_count": 6,
   "metadata": {},
   "outputs": [
    {
     "data": {
      "text/plain": [
       "((10, 12), (10, 1))"
      ]
     },
     "execution_count": 6,
     "metadata": {},
     "output_type": "execute_result"
    }
   ],
   "source": [
    "env = VecGymEnv(env_id,n_envs=10)\n",
    "env = NPrevFramesStateEnv(env,n_prev_frames=4,flatten=True)\n",
    "\n",
    "test_env = NPrevFramesStateEnv(VecGymEnv(env_id,n_envs=1),n_prev_frames=4,flatten=True)\n",
    "\n",
    "state = env.reset()\n",
    "state_shape = state.shape\n",
    "action_shape = env.env.action_shape()\n",
    "state_shape, action_shape"
   ]
  },
  {
   "cell_type": "markdown",
   "metadata": {},
   "source": [
    "#### neural nets"
   ]
  },
  {
   "cell_type": "code",
   "execution_count": 7,
   "metadata": {},
   "outputs": [],
   "source": [
    "policy_fn = build_policy_fn(hidden_dims,hidden_layers,output_dim,batchnorm)\n",
    "q_fn = build_q_fn(hidden_dims,hidden_layers,output_dim,batchnorm)"
   ]
  },
  {
   "cell_type": "markdown",
   "metadata": {},
   "source": [
    "#### agent"
   ]
  },
  {
   "cell_type": "code",
   "execution_count": 8,
   "metadata": {
    "scrolled": false
   },
   "outputs": [
    {
     "name": "stderr",
     "output_type": "stream",
     "text": [
      "WARNING: Logging before flag parsing goes to stderr.\n",
      "W1002 19:26:20.359115 4631799232 deprecation_wrapper.py:119] From /Users/justinmaojones/rl/agentflow/agents/ddpg.py:40: The name tf.placeholder is deprecated. Please use tf.compat.v1.placeholder instead.\n",
      "\n",
      "W1002 19:26:20.379813 4631799232 deprecation_wrapper.py:119] From /Users/justinmaojones/rl/agentflow/agents/ddpg.py:55: The name tf.variable_scope is deprecated. Please use tf.compat.v1.variable_scope instead.\n",
      "\n",
      "W1002 19:26:20.458847 4631799232 deprecation.py:323] From <ipython-input-4-b7b951101ec6>:8: dense (from tensorflow.python.layers.core) is deprecated and will be removed in a future version.\n",
      "Instructions for updating:\n",
      "Use keras.layers.dense instead.\n",
      "W1002 19:26:20.461266 4631799232 deprecation.py:506] From /Users/justinmaojones/rl/env/lib/python3.7/site-packages/tensorflow/python/ops/init_ops.py:1251: calling VarianceScaling.__init__ (from tensorflow.python.ops.init_ops) with dtype is deprecated and will be removed in a future version.\n",
      "Instructions for updating:\n",
      "Call initializer instance with the dtype argument instead of passing it to the constructor\n",
      "W1002 19:26:21.062731 4631799232 deprecation_wrapper.py:119] From /Users/justinmaojones/rl/agentflow/tensorflow/ops.py:5: The name tf.trainable_variables is deprecated. Please use tf.compat.v1.trainable_variables instead.\n",
      "\n",
      "W1002 19:26:21.063886 4631799232 deprecation.py:323] From /Users/justinmaojones/rl/env/lib/python3.7/site-packages/tensorflow/python/training/moving_averages.py:433: Variable.initialized_value (from tensorflow.python.ops.variables) is deprecated and will be removed in a future version.\n",
      "Instructions for updating:\n",
      "Use Variable.read_value. Variables in 2.X are initialized automatically both in eager and graph (inside tf.defun) contexts.\n",
      "W1002 19:26:21.867546 4631799232 deprecation.py:323] From /Users/justinmaojones/rl/env/lib/python3.7/site-packages/tensorflow/python/ops/clip_ops.py:157: add_dispatch_support.<locals>.wrapper (from tensorflow.python.ops.array_ops) is deprecated and will be removed in a future version.\n",
      "Instructions for updating:\n",
      "Use tf.where in 2.0, which has the same broadcast rule as np.where\n",
      "W1002 19:26:21.880602 4631799232 deprecation_wrapper.py:119] From /Users/justinmaojones/rl/agentflow/agents/ddpg.py:94: The name tf.train.RMSPropOptimizer is deprecated. Please use tf.compat.v1.train.RMSPropOptimizer instead.\n",
      "\n",
      "W1002 19:26:21.881424 4631799232 deprecation_wrapper.py:119] From /Users/justinmaojones/rl/agentflow/agents/ddpg.py:95: The name tf.get_collection is deprecated. Please use tf.compat.v1.get_collection instead.\n",
      "\n",
      "W1002 19:26:21.882274 4631799232 deprecation_wrapper.py:119] From /Users/justinmaojones/rl/agentflow/agents/ddpg.py:95: The name tf.GraphKeys is deprecated. Please use tf.compat.v1.GraphKeys instead.\n",
      "\n",
      "W1002 19:26:22.161725 4631799232 deprecation.py:506] From /Users/justinmaojones/rl/env/lib/python3.7/site-packages/tensorflow/python/training/rmsprop.py:119: calling Ones.__init__ (from tensorflow.python.ops.init_ops) with dtype is deprecated and will be removed in a future version.\n",
      "Instructions for updating:\n",
      "Call initializer instance with the dtype argument instead of passing it to the constructor\n"
     ]
    }
   ],
   "source": [
    "tf.reset_default_graph()\n",
    "agent = DDPG(state_shape[1:],action_shape[1:],policy_fn,q_fn,dqda_clipping,clip_norm)\n",
    "replay_buffer = BufferMap()"
   ]
  },
  {
   "cell_type": "markdown",
   "metadata": {},
   "source": [
    "## Train Agent"
   ]
  },
  {
   "cell_type": "code",
   "execution_count": 9,
   "metadata": {},
   "outputs": [],
   "source": [
    "def test_agent(test_env,agent):\n",
    "    state, rt, done = test_env.reset(), 0, 0\n",
    "    while np.sum(done) == 0:\n",
    "        state, reward, done, _ = test_env.step(agent.act(state))\n",
    "        rt += reward.sum()\n",
    "    return rt"
   ]
  },
  {
   "cell_type": "code",
   "execution_count": 10,
   "metadata": {},
   "outputs": [],
   "source": [
    "VARVALS = {v.name:tf.reduce_mean(tf.square(v)) for v in tf.global_variables()}"
   ]
  },
  {
   "cell_type": "code",
   "execution_count": 11,
   "metadata": {
    "scrolled": true
   },
   "outputs": [
    {
     "name": "stdout",
     "output_type": "stream",
     "text": [
      "100000/100000 [==============================] - 300s 3ms/step - avg_reward: -1.4593 - test_ep_returns: -323.5625\n"
     ]
    }
   ],
   "source": [
    "reward_history = []\n",
    "action_history = []\n",
    "variable_vals = []\n",
    "test_ep_returns = []\n",
    "\n",
    "with tf.Session() as sess:\n",
    "    sess.run(tf.global_variables_initializer())\n",
    "\n",
    "    B = int(1e3)\n",
    "    T = int(1e5)\n",
    "    batchsize = 100\n",
    "    pb = tf.keras.utils.Progbar(T)\n",
    "    for t in range(T):\n",
    "        \n",
    "        action = agent.act(state)\n",
    "        if len(replay_buffer) > B:\n",
    "            action += 0.1*np.random.randn(*action.shape)\n",
    "        else:\n",
    "            action = np.random.randn(*action.shape)\n",
    "        \n",
    "        state2, reward, done, info = env.step(action)\n",
    "        \n",
    "        reward_history.append(reward)\n",
    "        action_history.append(action)\n",
    "        \n",
    "        replay_buffer.append({'state':state,'action':action,'reward':reward,'done':done,'state2':state2})\n",
    "        state = state2\n",
    "        \n",
    "        if len(replay_buffer) > B:\n",
    "            agent.update(**replay_buffer.sample(batchsize))\n",
    "            \n",
    "        #variable_vals.append(sess.run(VARVALS))\n",
    "            \n",
    "        if t % 1000 == 0 and t > 0:\n",
    "            test_ep_returns.append(test_agent(test_env,agent))\n",
    "            \n",
    "            pb.add(1,[('avg_reward', reward.mean()),('test_ep_returns', test_ep_returns[-1])])\n",
    "        else:\n",
    "            \n",
    "            pb.add(1,[('avg_reward', reward.mean())])\n",
    "        "
   ]
  },
  {
   "cell_type": "code",
   "execution_count": 12,
   "metadata": {},
   "outputs": [],
   "source": [
    "reward_history_arr = np.stack(reward_history)\n",
    "action_history_arr = np.stack(action_history)\n",
    "variable_vals_df = pd.DataFrame(variable_vals)\n",
    "test_ep_returns_arr = np.stack(test_ep_returns)"
   ]
  },
  {
   "cell_type": "code",
   "execution_count": 13,
   "metadata": {},
   "outputs": [
    {
     "data": {
      "text/plain": [
       "[<matplotlib.lines.Line2D at 0x1bee33fd0>]"
      ]
     },
     "execution_count": 13,
     "metadata": {},
     "output_type": "execute_result"
    },
    {
     "data": {
      "image/png": "[encoded data removed]",
      "text/plain": [
       "<Figure size 432x288 with 1 Axes>"
      ]
     },
     "metadata": {
      "needs_background": "light"
     },
     "output_type": "display_data"
    }
   ],
   "source": [
    "plt.plot(test_ep_returns_arr)"
   ]
  },
  {
   "cell_type": "code",
   "execution_count": 14,
   "metadata": {},
   "outputs": [
    {
     "data": {
      "text/plain": [
       "[<matplotlib.lines.Line2D at 0x1be5cec18>]"
      ]
     },
     "execution_count": 14,
     "metadata": {},
     "output_type": "execute_result"
    },
    {
     "data": {
      "image/png": "[encoded data removed]",
      "text/plain": [
       "<Figure size 432x288 with 1 Axes>"
      ]
     },
     "metadata": {
      "needs_background": "light"
     },
     "output_type": "display_data"
    }
   ],
   "source": [
    "plt.plot(reward_history_arr.mean(axis=1))\n",
    "plt.plot(reward_history_arr.max(axis=1),alpha=0.2)"
   ]
  },
  {
   "cell_type": "code",
   "execution_count": 15,
   "metadata": {},
   "outputs": [
    {
     "data": {
      "text/plain": [
       "[<matplotlib.lines.Line2D at 0x1be66f048>]"
      ]
     },
     "execution_count": 15,
     "metadata": {},
     "output_type": "execute_result"
    },
    {
     "data": {
      "image/png": "[encoded data removed]",
      "text/plain": [
       "<Figure size 432x288 with 1 Axes>"
      ]
     },
     "metadata": {
      "needs_background": "light"
     },
     "output_type": "display_data"
    }
   ],
   "source": [
    "plt.plot(action_history_arr.mean(axis=1))"
   ]
  },
  {
   "cell_type": "code",
   "execution_count": 16,
   "metadata": {},
   "outputs": [
    {
     "data": {
      "text/plain": [
       "[<tf.Variable 'policy/batch_normalization/gamma:0' shape=(12,) dtype=float32_ref>,\n",
       " <tf.Variable 'policy/batch_normalization/beta:0' shape=(12,) dtype=float32_ref>,\n",
       " <tf.Variable 'policy/batch_normalization/moving_mean:0' shape=(12,) dtype=float32_ref>,\n",
       " <tf.Variable 'policy/batch_normalization/moving_variance:0' shape=(12,) dtype=float32_ref>,\n",
       " <tf.Variable 'policy/dense/kernel:0' shape=(12, 32) dtype=float32_ref>,\n",
       " <tf.Variable 'policy/dense/bias:0' shape=(32,) dtype=float32_ref>,\n",
       " <tf.Variable 'policy/batch_normalization_1/gamma:0' shape=(32,) dtype=float32_ref>,\n",
       " <tf.Variable 'policy/batch_normalization_1/beta:0' shape=(32,) dtype=float32_ref>,\n",
       " <tf.Variable 'policy/batch_normalization_1/moving_mean:0' shape=(32,) dtype=float32_ref>,\n",
       " <tf.Variable 'policy/batch_normalization_1/moving_variance:0' shape=(32,) dtype=float32_ref>,\n",
       " <tf.Variable 'policy/dense_1/kernel:0' shape=(32, 32) dtype=float32_ref>,\n",
       " <tf.Variable 'policy/dense_1/bias:0' shape=(32,) dtype=float32_ref>,\n",
       " <tf.Variable 'policy/batch_normalization_2/gamma:0' shape=(32,) dtype=float32_ref>,\n",
       " <tf.Variable 'policy/batch_normalization_2/beta:0' shape=(32,) dtype=float32_ref>,\n",
       " <tf.Variable 'policy/batch_normalization_2/moving_mean:0' shape=(32,) dtype=float32_ref>,\n",
       " <tf.Variable 'policy/batch_normalization_2/moving_variance:0' shape=(32,) dtype=float32_ref>,\n",
       " <tf.Variable 'policy/dense_2/kernel:0' shape=(32, 1) dtype=float32_ref>,\n",
       " <tf.Variable 'policy/dense_2/bias:0' shape=(1,) dtype=float32_ref>,\n",
       " <tf.Variable 'Q/batch_normalization/gamma:0' shape=(13,) dtype=float32_ref>,\n",
       " <tf.Variable 'Q/batch_normalization/beta:0' shape=(13,) dtype=float32_ref>,\n",
       " <tf.Variable 'Q/batch_normalization/moving_mean:0' shape=(13,) dtype=float32_ref>,\n",
       " <tf.Variable 'Q/batch_normalization/moving_variance:0' shape=(13,) dtype=float32_ref>,\n",
       " <tf.Variable 'Q/dense/kernel:0' shape=(13, 32) dtype=float32_ref>,\n",
       " <tf.Variable 'Q/dense/bias:0' shape=(32,) dtype=float32_ref>,\n",
       " <tf.Variable 'Q/batch_normalization_1/gamma:0' shape=(32,) dtype=float32_ref>,\n",
       " <tf.Variable 'Q/batch_normalization_1/beta:0' shape=(32,) dtype=float32_ref>,\n",
       " <tf.Variable 'Q/batch_normalization_1/moving_mean:0' shape=(32,) dtype=float32_ref>,\n",
       " <tf.Variable 'Q/batch_normalization_1/moving_variance:0' shape=(32,) dtype=float32_ref>,\n",
       " <tf.Variable 'Q/dense_1/kernel:0' shape=(32, 32) dtype=float32_ref>,\n",
       " <tf.Variable 'Q/dense_1/bias:0' shape=(32,) dtype=float32_ref>,\n",
       " <tf.Variable 'Q/batch_normalization_2/gamma:0' shape=(32,) dtype=float32_ref>,\n",
       " <tf.Variable 'Q/batch_normalization_2/beta:0' shape=(32,) dtype=float32_ref>,\n",
       " <tf.Variable 'Q/batch_normalization_2/moving_mean:0' shape=(32,) dtype=float32_ref>,\n",
       " <tf.Variable 'Q/batch_normalization_2/moving_variance:0' shape=(32,) dtype=float32_ref>,\n",
       " <tf.Variable 'Q/dense_2/kernel:0' shape=(32, 1) dtype=float32_ref>,\n",
       " <tf.Variable 'Q/dense_2/bias:0' shape=(1,) dtype=float32_ref>,\n",
       " <tf.Variable 'Q/batch_normalization/gamma/ExponentialMovingAverage:0' shape=(13,) dtype=float32_ref>,\n",
       " <tf.Variable 'Q/batch_normalization/beta/ExponentialMovingAverage:0' shape=(13,) dtype=float32_ref>,\n",
       " <tf.Variable 'Q/dense/kernel/ExponentialMovingAverage:0' shape=(13, 32) dtype=float32_ref>,\n",
       " <tf.Variable 'Q/dense/bias/ExponentialMovingAverage:0' shape=(32,) dtype=float32_ref>,\n",
       " <tf.Variable 'Q/batch_normalization_1/gamma/ExponentialMovingAverage:0' shape=(32,) dtype=float32_ref>,\n",
       " <tf.Variable 'Q/batch_normalization_1/beta/ExponentialMovingAverage:0' shape=(32,) dtype=float32_ref>,\n",
       " <tf.Variable 'Q/dense_1/kernel/ExponentialMovingAverage:0' shape=(32, 32) dtype=float32_ref>,\n",
       " <tf.Variable 'Q/dense_1/bias/ExponentialMovingAverage:0' shape=(32,) dtype=float32_ref>,\n",
       " <tf.Variable 'Q/batch_normalization_2/gamma/ExponentialMovingAverage:0' shape=(32,) dtype=float32_ref>,\n",
       " <tf.Variable 'Q/batch_normalization_2/beta/ExponentialMovingAverage:0' shape=(32,) dtype=float32_ref>,\n",
       " <tf.Variable 'Q/dense_2/kernel/ExponentialMovingAverage:0' shape=(32, 1) dtype=float32_ref>,\n",
       " <tf.Variable 'Q/dense_2/bias/ExponentialMovingAverage:0' shape=(1,) dtype=float32_ref>,\n",
       " <tf.Variable 'policy/batch_normalization/gamma/ExponentialMovingAverage:0' shape=(12,) dtype=float32_ref>,\n",
       " <tf.Variable 'policy/batch_normalization/beta/ExponentialMovingAverage:0' shape=(12,) dtype=float32_ref>,\n",
       " <tf.Variable 'policy/dense/kernel/ExponentialMovingAverage:0' shape=(12, 32) dtype=float32_ref>,\n",
       " <tf.Variable 'policy/dense/bias/ExponentialMovingAverage:0' shape=(32,) dtype=float32_ref>,\n",
       " <tf.Variable 'policy/batch_normalization_1/gamma/ExponentialMovingAverage:0' shape=(32,) dtype=float32_ref>,\n",
       " <tf.Variable 'policy/batch_normalization_1/beta/ExponentialMovingAverage:0' shape=(32,) dtype=float32_ref>,\n",
       " <tf.Variable 'policy/dense_1/kernel/ExponentialMovingAverage:0' shape=(32, 32) dtype=float32_ref>,\n",
       " <tf.Variable 'policy/dense_1/bias/ExponentialMovingAverage:0' shape=(32,) dtype=float32_ref>,\n",
       " <tf.Variable 'policy/batch_normalization_2/gamma/ExponentialMovingAverage:0' shape=(32,) dtype=float32_ref>,\n",
       " <tf.Variable 'policy/batch_normalization_2/beta/ExponentialMovingAverage:0' shape=(32,) dtype=float32_ref>,\n",
       " <tf.Variable 'policy/dense_2/kernel/ExponentialMovingAverage:0' shape=(32, 1) dtype=float32_ref>,\n",
       " <tf.Variable 'policy/dense_2/bias/ExponentialMovingAverage:0' shape=(1,) dtype=float32_ref>,\n",
       " <tf.Variable 'policy/batch_normalization/gamma/RMSProp:0' shape=(12,) dtype=float32_ref>,\n",
       " <tf.Variable 'policy/batch_normalization/gamma/RMSProp_1:0' shape=(12,) dtype=float32_ref>,\n",
       " <tf.Variable 'policy/batch_normalization/beta/RMSProp:0' shape=(12,) dtype=float32_ref>,\n",
       " <tf.Variable 'policy/batch_normalization/beta/RMSProp_1:0' shape=(12,) dtype=float32_ref>,\n",
       " <tf.Variable 'policy/dense/kernel/RMSProp:0' shape=(12, 32) dtype=float32_ref>,\n",
       " <tf.Variable 'policy/dense/kernel/RMSProp_1:0' shape=(12, 32) dtype=float32_ref>,\n",
       " <tf.Variable 'policy/dense/bias/RMSProp:0' shape=(32,) dtype=float32_ref>,\n",
       " <tf.Variable 'policy/dense/bias/RMSProp_1:0' shape=(32,) dtype=float32_ref>,\n",
       " <tf.Variable 'policy/batch_normalization_1/gamma/RMSProp:0' shape=(32,) dtype=float32_ref>,\n",
       " <tf.Variable 'policy/batch_normalization_1/gamma/RMSProp_1:0' shape=(32,) dtype=float32_ref>,\n",
       " <tf.Variable 'policy/batch_normalization_1/beta/RMSProp:0' shape=(32,) dtype=float32_ref>,\n",
       " <tf.Variable 'policy/batch_normalization_1/beta/RMSProp_1:0' shape=(32,) dtype=float32_ref>,\n",
       " <tf.Variable 'policy/dense_1/kernel/RMSProp:0' shape=(32, 32) dtype=float32_ref>,\n",
       " <tf.Variable 'policy/dense_1/kernel/RMSProp_1:0' shape=(32, 32) dtype=float32_ref>,\n",
       " <tf.Variable 'policy/dense_1/bias/RMSProp:0' shape=(32,) dtype=float32_ref>,\n",
       " <tf.Variable 'policy/dense_1/bias/RMSProp_1:0' shape=(32,) dtype=float32_ref>,\n",
       " <tf.Variable 'policy/batch_normalization_2/gamma/RMSProp:0' shape=(32,) dtype=float32_ref>,\n",
       " <tf.Variable 'policy/batch_normalization_2/gamma/RMSProp_1:0' shape=(32,) dtype=float32_ref>,\n",
       " <tf.Variable 'policy/batch_normalization_2/beta/RMSProp:0' shape=(32,) dtype=float32_ref>,\n",
       " <tf.Variable 'policy/batch_normalization_2/beta/RMSProp_1:0' shape=(32,) dtype=float32_ref>,\n",
       " <tf.Variable 'policy/dense_2/kernel/RMSProp:0' shape=(32, 1) dtype=float32_ref>,\n",
       " <tf.Variable 'policy/dense_2/kernel/RMSProp_1:0' shape=(32, 1) dtype=float32_ref>,\n",
       " <tf.Variable 'policy/dense_2/bias/RMSProp:0' shape=(1,) dtype=float32_ref>,\n",
       " <tf.Variable 'policy/dense_2/bias/RMSProp_1:0' shape=(1,) dtype=float32_ref>,\n",
       " <tf.Variable 'Q/batch_normalization/gamma/RMSProp:0' shape=(13,) dtype=float32_ref>,\n",
       " <tf.Variable 'Q/batch_normalization/gamma/RMSProp_1:0' shape=(13,) dtype=float32_ref>,\n",
       " <tf.Variable 'Q/batch_normalization/beta/RMSProp:0' shape=(13,) dtype=float32_ref>,\n",
       " <tf.Variable 'Q/batch_normalization/beta/RMSProp_1:0' shape=(13,) dtype=float32_ref>,\n",
       " <tf.Variable 'Q/dense/kernel/RMSProp:0' shape=(13, 32) dtype=float32_ref>,\n",
       " <tf.Variable 'Q/dense/kernel/RMSProp_1:0' shape=(13, 32) dtype=float32_ref>,\n",
       " <tf.Variable 'Q/dense/bias/RMSProp:0' shape=(32,) dtype=float32_ref>,\n",
       " <tf.Variable 'Q/dense/bias/RMSProp_1:0' shape=(32,) dtype=float32_ref>,\n",
       " <tf.Variable 'Q/batch_normalization_1/gamma/RMSProp:0' shape=(32,) dtype=float32_ref>,\n",
       " <tf.Variable 'Q/batch_normalization_1/gamma/RMSProp_1:0' shape=(32,) dtype=float32_ref>,\n",
       " <tf.Variable 'Q/batch_normalization_1/beta/RMSProp:0' shape=(32,) dtype=float32_ref>,\n",
       " <tf.Variable 'Q/batch_normalization_1/beta/RMSProp_1:0' shape=(32,) dtype=float32_ref>,\n",
       " <tf.Variable 'Q/dense_1/kernel/RMSProp:0' shape=(32, 32) dtype=float32_ref>,\n",
       " <tf.Variable 'Q/dense_1/kernel/RMSProp_1:0' shape=(32, 32) dtype=float32_ref>,\n",
       " <tf.Variable 'Q/dense_1/bias/RMSProp:0' shape=(32,) dtype=float32_ref>,\n",
       " <tf.Variable 'Q/dense_1/bias/RMSProp_1:0' shape=(32,) dtype=float32_ref>,\n",
       " <tf.Variable 'Q/batch_normalization_2/gamma/RMSProp:0' shape=(32,) dtype=float32_ref>,\n",
       " <tf.Variable 'Q/batch_normalization_2/gamma/RMSProp_1:0' shape=(32,) dtype=float32_ref>,\n",
       " <tf.Variable 'Q/batch_normalization_2/beta/RMSProp:0' shape=(32,) dtype=float32_ref>,\n",
       " <tf.Variable 'Q/batch_normalization_2/beta/RMSProp_1:0' shape=(32,) dtype=float32_ref>,\n",
       " <tf.Variable 'Q/dense_2/kernel/RMSProp:0' shape=(32, 1) dtype=float32_ref>,\n",
       " <tf.Variable 'Q/dense_2/kernel/RMSProp_1:0' shape=(32, 1) dtype=float32_ref>,\n",
       " <tf.Variable 'Q/dense_2/bias/RMSProp:0' shape=(1,) dtype=float32_ref>,\n",
       " <tf.Variable 'Q/dense_2/bias/RMSProp_1:0' shape=(1,) dtype=float32_ref>]"
      ]
     },
     "execution_count": 16,
     "metadata": {},
     "output_type": "execute_result"
    }
   ],
   "source": [
    "tf.global_variables()"
   ]
  },
  {
   "cell_type": "code",
   "execution_count": 17,
   "metadata": {
    "scrolled": false
   },
   "outputs": [],
   "source": [
    "for c in sorted(variable_vals_df.columns):\n",
    "    variable_vals_df[c].apply(np.log).plot(title=c)\n",
    "    plt.show()"
   ]
  },
  {
   "cell_type": "code",
   "execution_count": null,
   "metadata": {},
   "outputs": [],
   "source": []
  }
 ],
 "metadata": {
  "kernelspec": {
   "display_name": "Python 3",
   "language": "python",
   "name": "python3"
  },
  "language_info": {
   "codemirror_mode": {
    "name": "ipython",
    "version": 3
   },
   "file_extension": ".py",
   "mimetype": "text/x-python",
   "name": "python",
   "nbconvert_exporter": "python",
   "pygments_lexer": "ipython3",
   "version": "3.7.3"
  }
 },
 "nbformat": 4,
 "nbformat_minor": 2
}
