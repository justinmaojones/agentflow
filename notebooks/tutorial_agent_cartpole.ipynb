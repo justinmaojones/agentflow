{
 "cells": [
  {
   "cell_type": "markdown",
   "metadata": {},
   "source": [
    "# Cartpole"
   ]
  },
  {
   "cell_type": "code",
   "execution_count": 1,
   "metadata": {},
   "outputs": [],
   "source": [
    "from agentflow.env import VecGymEnv\n",
    "from agentflow.agents import DDPG\n",
    "from agentflow.buffers import BufferMap\n",
    "from agentflow.state import NPrevFramesStateEnv\n",
    "from agentflow.tensorflow.nn import dense_net\n",
    "from agentflow.tensorflow.ops import normalize_ema\n",
    "from agentflow.utils import check_whats_connected\n",
    "import tensorflow as tf\n",
    "import numpy as np\n",
    "import pandas as pd"
   ]
  },
  {
   "cell_type": "code",
   "execution_count": 2,
   "metadata": {},
   "outputs": [
    {
     "name": "stdout",
     "output_type": "stream",
     "text": [
      "Populating the interactive namespace from numpy and matplotlib\n"
     ]
    }
   ],
   "source": [
    "%pylab inline\n",
    "import matplotlib.pyplot as plt\n",
    "import seaborn\n",
    "seaborn.set()"
   ]
  },
  {
   "cell_type": "markdown",
   "metadata": {},
   "source": [
    "## Settings\n"
   ]
  },
  {
   "cell_type": "code",
   "execution_count": 3,
   "metadata": {},
   "outputs": [],
   "source": [
    "env_id = 'CartPole-v1'\n",
    "discrete = True\n",
    "dqda_clipping = 1\n",
    "clip_norm = True\n",
    "hidden_dims = 32\n",
    "hidden_layers = 2\n",
    "output_dim = 2\n",
    "batchnorm = True"
   ]
  },
  {
   "cell_type": "markdown",
   "metadata": {},
   "source": [
    "## Build Environment & Agent"
   ]
  },
  {
   "cell_type": "code",
   "execution_count": 4,
   "metadata": {},
   "outputs": [],
   "source": [
    "def dense_net(x,units,layers,batchnorm=True,activation=tf.nn.relu,training=False,**kwargs):\n",
    "\n",
    "    assert isinstance(layers,int) and layers > 0, 'layers should be a positive integer'\n",
    "    assert isinstance(units,int) and units > 0, 'units should be a positive integer'\n",
    "\n",
    "    h = x\n",
    "    for l in range(layers):\n",
    "        h = tf.layers.dense(h,units,**kwargs)\n",
    "        h = activation(h)\n",
    "        \n",
    "        if batchnorm:\n",
    "            BN = tf.layers.BatchNormalization()\n",
    "            h = BN(h,training=training)\n",
    "    return h"
   ]
  },
  {
   "cell_type": "code",
   "execution_count": 5,
   "metadata": {},
   "outputs": [],
   "source": [
    "def build_net_fn(hidden_dims,hidden_layers,output_dim,batchnorm):\n",
    "    def net_fn(state,training=False):\n",
    "        h = state\n",
    "        if batchnorm:\n",
    "            BN = tf.layers.BatchNormalization()\n",
    "            h = BN(h,training=training)\n",
    "        \n",
    "            #with tf.control_dependencies(BN.updates):\n",
    "            h = dense_net(h,hidden_dims,hidden_layers,batchnorm=False,training=training)\n",
    "        else:\n",
    "            h = dense_net(h,hidden_dims,hidden_layers,batchnorm=False,training=training)\n",
    "            \n",
    "        return tf.layers.dense(h,output_dim)\n",
    "    return net_fn\n",
    "\n",
    "def build_policy_fn(*args,**kwargs):\n",
    "    net_fn = build_net_fn(*args,**kwargs)\n",
    "    def policy_fn(state,training=False):\n",
    "        h = net_fn(state)\n",
    "        return tf.nn.softmax(h,axis=-1)\n",
    "    return policy_fn\n",
    "\n",
    "def build_q_fn(*args,**kwargs):\n",
    "    net_fn = build_net_fn(*args,**kwargs)\n",
    "    def q_fn(state,action,training=False):\n",
    "        h = tf.concat([state,action],axis=1)\n",
    "        return net_fn(h)\n",
    "    return q_fn"
   ]
  },
  {
   "cell_type": "markdown",
   "metadata": {},
   "source": [
    "#### environment"
   ]
  },
  {
   "cell_type": "code",
   "execution_count": 6,
   "metadata": {},
   "outputs": [
    {
     "data": {
      "text/plain": [
       "((10, 16), (10,))"
      ]
     },
     "execution_count": 6,
     "metadata": {},
     "output_type": "execute_result"
    }
   ],
   "source": [
    "env = VecGymEnv(env_id,n_envs=10)\n",
    "env = NPrevFramesStateEnv(env,n_prev_frames=4,flatten=True)\n",
    "\n",
    "test_env = VecGymEnv(env_id,n_envs=1)\n",
    "test_env = NPrevFramesStateEnv(test_env,n_prev_frames=4,flatten=True)\n",
    "\n",
    "state = env.reset()\n",
    "state_shape = state.shape\n",
    "action_shape = env.env.action_shape() \n",
    "state_shape, action_shape"
   ]
  },
  {
   "cell_type": "markdown",
   "metadata": {},
   "source": [
    "#### neural nets"
   ]
  },
  {
   "cell_type": "code",
   "execution_count": 7,
   "metadata": {},
   "outputs": [],
   "source": [
    "policy_fn = build_policy_fn(hidden_dims,hidden_layers,output_dim,batchnorm)\n",
    "q_fn = build_q_fn(hidden_dims,hidden_layers,1,batchnorm)"
   ]
  },
  {
   "cell_type": "markdown",
   "metadata": {},
   "source": [
    "#### agent"
   ]
  },
  {
   "cell_type": "code",
   "execution_count": 8,
   "metadata": {
    "scrolled": false
   },
   "outputs": [
    {
     "name": "stderr",
     "output_type": "stream",
     "text": [
      "WARNING: Logging before flag parsing goes to stderr.\n",
      "W1212 23:15:40.404702 4608607680 deprecation_wrapper.py:119] From /Users/justinmaojones/rl/agentflow/agents/ddpg.py:43: The name tf.placeholder is deprecated. Please use tf.compat.v1.placeholder instead.\n",
      "\n",
      "W1212 23:15:40.424681 4608607680 deprecation_wrapper.py:119] From /Users/justinmaojones/rl/agentflow/agents/ddpg.py:59: The name tf.variable_scope is deprecated. Please use tf.compat.v1.variable_scope instead.\n",
      "\n",
      "W1212 23:15:40.496975 4608607680 deprecation.py:323] From <ipython-input-4-b7b951101ec6>:8: dense (from tensorflow.python.layers.core) is deprecated and will be removed in a future version.\n",
      "Instructions for updating:\n",
      "Use keras.layers.dense instead.\n",
      "W1212 23:15:40.498639 4608607680 deprecation.py:506] From /Users/justinmaojones/rl/env/lib/python3.7/site-packages/tensorflow/python/ops/init_ops.py:1251: calling VarianceScaling.__init__ (from tensorflow.python.ops.init_ops) with dtype is deprecated and will be removed in a future version.\n",
      "Instructions for updating:\n",
      "Call initializer instance with the dtype argument instead of passing it to the constructor\n",
      "W1212 23:15:40.824471 4608607680 deprecation_wrapper.py:119] From /Users/justinmaojones/rl/agentflow/tensorflow/ops.py:5: The name tf.trainable_variables is deprecated. Please use tf.compat.v1.trainable_variables instead.\n",
      "\n",
      "W1212 23:15:40.825644 4608607680 deprecation.py:323] From /Users/justinmaojones/rl/env/lib/python3.7/site-packages/tensorflow/python/training/moving_averages.py:433: Variable.initialized_value (from tensorflow.python.ops.variables) is deprecated and will be removed in a future version.\n",
      "Instructions for updating:\n",
      "Use Variable.read_value. Variables in 2.X are initialized automatically both in eager and graph (inside tf.defun) contexts.\n",
      "W1212 23:15:41.148674 4608607680 deprecation.py:323] From /Users/justinmaojones/rl/env/lib/python3.7/site-packages/tensorflow/python/ops/clip_ops.py:157: add_dispatch_support.<locals>.wrapper (from tensorflow.python.ops.array_ops) is deprecated and will be removed in a future version.\n",
      "Instructions for updating:\n",
      "Use tf.where in 2.0, which has the same broadcast rule as np.where\n",
      "W1212 23:15:41.159675 4608607680 deprecation_wrapper.py:119] From /Users/justinmaojones/rl/agentflow/agents/ddpg.py:102: The name tf.train.RMSPropOptimizer is deprecated. Please use tf.compat.v1.train.RMSPropOptimizer instead.\n",
      "\n",
      "W1212 23:15:41.160552 4608607680 deprecation_wrapper.py:119] From /Users/justinmaojones/rl/agentflow/agents/ddpg.py:103: The name tf.get_collection is deprecated. Please use tf.compat.v1.get_collection instead.\n",
      "\n",
      "W1212 23:15:41.161268 4608607680 deprecation_wrapper.py:119] From /Users/justinmaojones/rl/agentflow/agents/ddpg.py:103: The name tf.GraphKeys is deprecated. Please use tf.compat.v1.GraphKeys instead.\n",
      "\n",
      "W1212 23:15:41.367958 4608607680 deprecation.py:506] From /Users/justinmaojones/rl/env/lib/python3.7/site-packages/tensorflow/python/training/rmsprop.py:119: calling Ones.__init__ (from tensorflow.python.ops.init_ops) with dtype is deprecated and will be removed in a future version.\n",
      "Instructions for updating:\n",
      "Call initializer instance with the dtype argument instead of passing it to the constructor\n"
     ]
    }
   ],
   "source": [
    "tf.reset_default_graph()\n",
    "agent = DDPG(state_shape[1:],[2],policy_fn,q_fn,dqda_clipping,clip_norm,discrete=discrete)"
   ]
  },
  {
   "cell_type": "markdown",
   "metadata": {},
   "source": [
    "## Train Agent"
   ]
  },
  {
   "cell_type": "code",
   "execution_count": 9,
   "metadata": {},
   "outputs": [],
   "source": [
    "def test_agent(test_env,agent):\n",
    "    state, rt, done = test_env.reset(), 0, 0\n",
    "    while np.sum(done) == 0:\n",
    "        action = agent.act(state).argmax(axis=-1).ravel()\n",
    "        state, reward, done, _ = test_env.step(action)\n",
    "        rt += reward.sum()\n",
    "    return rt"
   ]
  },
  {
   "cell_type": "code",
   "execution_count": 10,
   "metadata": {},
   "outputs": [],
   "source": [
    "def sigmoid(x):\n",
    "    return 1./(1.+np.exp(-x))\n",
    "\n",
    "def invert_softmax(x,axis=-1):\n",
    "    return np.log(x)\n",
    "\n",
    "def softmax(x,axis=-1):\n",
    "    return np.exp(x)/np.exp(x).sum(axis=axis,keepdims=True)\n",
    "\n",
    "def onehot(x,depth=2):\n",
    "    shape = list(x.shape)+[2]\n",
    "    y = np.zeros(shape)\n",
    "    y[np.arange(len(x)),x] = 1.\n",
    "    return y.astype('float32')"
   ]
  },
  {
   "cell_type": "code",
   "execution_count": 11,
   "metadata": {},
   "outputs": [],
   "source": [
    "def noisy_action(action,eps=1.,clip=5e-2):\n",
    "    action = np.minimum(1-clip,np.maximum(clip,action))\n",
    "    logit = invert_softmax(action)\n",
    "    u = np.random.rand(*action.shape)\n",
    "    g = -np.log(-np.log(u))\n",
    "    return (eps*g+logit).argmax(axis=-1)"
   ]
  },
  {
   "cell_type": "code",
   "execution_count": 12,
   "metadata": {},
   "outputs": [
    {
     "data": {
      "text/plain": [
       "0.0475"
      ]
     },
     "execution_count": 12,
     "metadata": {},
     "output_type": "execute_result"
    }
   ],
   "source": [
    "action = np.concatenate([np.ones((10000,1)),np.zeros((10000,1))],axis=-1)\n",
    "noisy_action(action,eps=1).mean()"
   ]
  },
  {
   "cell_type": "code",
   "execution_count": 13,
   "metadata": {},
   "outputs": [
    {
     "data": {
      "text/plain": [
       "0.9459"
      ]
     },
     "execution_count": 13,
     "metadata": {},
     "output_type": "execute_result"
    }
   ],
   "source": [
    "action = np.concatenate([np.zeros((10000,1)),np.ones((10000,1))],axis=-1)\n",
    "noisy_action(action,eps=1).mean()"
   ]
  },
  {
   "cell_type": "code",
   "execution_count": 14,
   "metadata": {},
   "outputs": [],
   "source": [
    "VARVALS = {v.name:tf.reduce_mean(tf.square(v)) for v in tf.global_variables()}"
   ]
  },
  {
   "cell_type": "code",
   "execution_count": 15,
   "metadata": {
    "scrolled": false
   },
   "outputs": [
    {
     "name": "stdout",
     "output_type": "stream",
     "text": [
      "20000/20000 [==============================] - 893s 45ms/step - avg_action: 0.4934 - test_ep_returns: 293.8995\n"
     ]
    }
   ],
   "source": [
    "replay_buffer = BufferMap(2**11)\n",
    "\n",
    "reward_history = []\n",
    "action_history = []\n",
    "variable_vals = []\n",
    "test_ep_returns = []\n",
    "\n",
    "state = env.reset()\n",
    "\n",
    "with tf.Session() as sess:\n",
    "    sess.run(tf.global_variables_initializer())\n",
    "\n",
    "    B = int(2e3)\n",
    "    T = int(2e4)\n",
    "    batchsize = 100\n",
    "    pb = tf.keras.utils.Progbar(T)\n",
    "    for t in range(T):\n",
    "        \n",
    "        action = agent.act(state)\n",
    "        if len(replay_buffer) > B:\n",
    "            action = noisy_action(action)\n",
    "        else:\n",
    "            action = np.random.choice(2,size=len(action))\n",
    "        \n",
    "        state2, reward, done, info = env.step(action.astype('int').ravel())\n",
    "        \n",
    "        reward_history.append(reward)\n",
    "        action_history.append(action)\n",
    "        \n",
    "        replay_buffer.append({'state':state,'action':onehot(action),'reward':reward,'done':done,'state2':state2})\n",
    "        state = state2\n",
    "        \n",
    "        if len(replay_buffer) >= B:\n",
    "            for i in range(40):\n",
    "                agent.update(learning_rate=1e-4,**replay_buffer.sample(batchsize))\n",
    "            \n",
    "        #variable_vals.append(sess.run(VARVALS))\n",
    "            \n",
    "        if t % 100 == 0 and t > 0:\n",
    "            test_ep_returns.append(test_agent(test_env,agent))\n",
    "            \n",
    "            pb.add(1,[('avg_action', action.mean()),('test_ep_returns', test_ep_returns[-1])])\n",
    "        else:\n",
    "            \n",
    "            pb.add(1,[('avg_action', action.mean())])\n",
    "        "
   ]
  },
  {
   "cell_type": "code",
   "execution_count": 16,
   "metadata": {},
   "outputs": [],
   "source": [
    "reward_history_arr = np.stack(reward_history)\n",
    "action_history_arr = np.stack(action_history)\n",
    "variable_vals_df = pd.DataFrame(variable_vals)\n",
    "test_ep_returns_arr = np.stack(test_ep_returns)"
   ]
  },
  {
   "cell_type": "code",
   "execution_count": 17,
   "metadata": {},
   "outputs": [
    {
     "data": {
      "text/plain": [
       "[<matplotlib.lines.Line2D at 0x14264c860>]"
      ]
     },
     "execution_count": 17,
     "metadata": {},
     "output_type": "execute_result"
    },
    {
     "data": {
      "image/png": "[encoded data removed]",
      "text/plain": [
       "<Figure size 432x288 with 1 Axes>"
      ]
     },
     "metadata": {
      "needs_background": "light"
     },
     "output_type": "display_data"
    }
   ],
   "source": [
    "plt.plot(100*np.arange(len(test_ep_returns_arr)),test_ep_returns_arr)"
   ]
  },
  {
   "cell_type": "code",
   "execution_count": 18,
   "metadata": {},
   "outputs": [
    {
     "data": {
      "text/plain": [
       "[<matplotlib.lines.Line2D at 0x1424fc908>]"
      ]
     },
     "execution_count": 18,
     "metadata": {},
     "output_type": "execute_result"
    },
    {
     "data": {
      "image/png": "[encoded data removed]",
      "text/plain": [
       "<Figure size 432x288 with 1 Axes>"
      ]
     },
     "metadata": {
      "needs_background": "light"
     },
     "output_type": "display_data"
    }
   ],
   "source": [
    "plt.plot(reward_history_arr.mean(axis=1))\n",
    "plt.plot(reward_history_arr.max(axis=1),alpha=0.2)"
   ]
  },
  {
   "cell_type": "code",
   "execution_count": 19,
   "metadata": {},
   "outputs": [
    {
     "data": {
      "text/plain": [
       "[<matplotlib.lines.Line2D at 0x1425d4f98>]"
      ]
     },
     "execution_count": 19,
     "metadata": {},
     "output_type": "execute_result"
    },
    {
     "data": {
      "image/png": "[encoded data removed]",
      "text/plain": [
       "<Figure size 432x288 with 1 Axes>"
      ]
     },
     "metadata": {
      "needs_background": "light"
     },
     "output_type": "display_data"
    }
   ],
   "source": [
    "plt.plot(action_history_arr.mean(axis=1))"
   ]
  },
  {
   "cell_type": "code",
   "execution_count": 20,
   "metadata": {},
   "outputs": [
    {
     "data": {
      "text/plain": [
       "[<tf.Variable 'policy/batch_normalization/gamma:0' shape=(16,) dtype=float32_ref>,\n",
       " <tf.Variable 'policy/batch_normalization/beta:0' shape=(16,) dtype=float32_ref>,\n",
       " <tf.Variable 'policy/batch_normalization/moving_mean:0' shape=(16,) dtype=float32_ref>,\n",
       " <tf.Variable 'policy/batch_normalization/moving_variance:0' shape=(16,) dtype=float32_ref>,\n",
       " <tf.Variable 'policy/dense/kernel:0' shape=(16, 32) dtype=float32_ref>,\n",
       " <tf.Variable 'policy/dense/bias:0' shape=(32,) dtype=float32_ref>,\n",
       " <tf.Variable 'policy/dense_1/kernel:0' shape=(32, 32) dtype=float32_ref>,\n",
       " <tf.Variable 'policy/dense_1/bias:0' shape=(32,) dtype=float32_ref>,\n",
       " <tf.Variable 'policy/dense_2/kernel:0' shape=(32, 2) dtype=float32_ref>,\n",
       " <tf.Variable 'policy/dense_2/bias:0' shape=(2,) dtype=float32_ref>,\n",
       " <tf.Variable 'Q/batch_normalization/gamma:0' shape=(18,) dtype=float32_ref>,\n",
       " <tf.Variable 'Q/batch_normalization/beta:0' shape=(18,) dtype=float32_ref>,\n",
       " <tf.Variable 'Q/batch_normalization/moving_mean:0' shape=(18,) dtype=float32_ref>,\n",
       " <tf.Variable 'Q/batch_normalization/moving_variance:0' shape=(18,) dtype=float32_ref>,\n",
       " <tf.Variable 'Q/dense/kernel:0' shape=(18, 32) dtype=float32_ref>,\n",
       " <tf.Variable 'Q/dense/bias:0' shape=(32,) dtype=float32_ref>,\n",
       " <tf.Variable 'Q/dense_1/kernel:0' shape=(32, 32) dtype=float32_ref>,\n",
       " <tf.Variable 'Q/dense_1/bias:0' shape=(32,) dtype=float32_ref>,\n",
       " <tf.Variable 'Q/dense_2/kernel:0' shape=(32, 1) dtype=float32_ref>,\n",
       " <tf.Variable 'Q/dense_2/bias:0' shape=(1,) dtype=float32_ref>,\n",
       " <tf.Variable 'Q/batch_normalization/gamma/ExponentialMovingAverage:0' shape=(18,) dtype=float32_ref>,\n",
       " <tf.Variable 'Q/batch_normalization/beta/ExponentialMovingAverage:0' shape=(18,) dtype=float32_ref>,\n",
       " <tf.Variable 'Q/dense/kernel/ExponentialMovingAverage:0' shape=(18, 32) dtype=float32_ref>,\n",
       " <tf.Variable 'Q/dense/bias/ExponentialMovingAverage:0' shape=(32,) dtype=float32_ref>,\n",
       " <tf.Variable 'Q/dense_1/kernel/ExponentialMovingAverage:0' shape=(32, 32) dtype=float32_ref>,\n",
       " <tf.Variable 'Q/dense_1/bias/ExponentialMovingAverage:0' shape=(32,) dtype=float32_ref>,\n",
       " <tf.Variable 'Q/dense_2/kernel/ExponentialMovingAverage:0' shape=(32, 1) dtype=float32_ref>,\n",
       " <tf.Variable 'Q/dense_2/bias/ExponentialMovingAverage:0' shape=(1,) dtype=float32_ref>,\n",
       " <tf.Variable 'policy/batch_normalization/gamma/ExponentialMovingAverage:0' shape=(16,) dtype=float32_ref>,\n",
       " <tf.Variable 'policy/batch_normalization/beta/ExponentialMovingAverage:0' shape=(16,) dtype=float32_ref>,\n",
       " <tf.Variable 'policy/dense/kernel/ExponentialMovingAverage:0' shape=(16, 32) dtype=float32_ref>,\n",
       " <tf.Variable 'policy/dense/bias/ExponentialMovingAverage:0' shape=(32,) dtype=float32_ref>,\n",
       " <tf.Variable 'policy/dense_1/kernel/ExponentialMovingAverage:0' shape=(32, 32) dtype=float32_ref>,\n",
       " <tf.Variable 'policy/dense_1/bias/ExponentialMovingAverage:0' shape=(32,) dtype=float32_ref>,\n",
       " <tf.Variable 'policy/dense_2/kernel/ExponentialMovingAverage:0' shape=(32, 2) dtype=float32_ref>,\n",
       " <tf.Variable 'policy/dense_2/bias/ExponentialMovingAverage:0' shape=(2,) dtype=float32_ref>,\n",
       " <tf.Variable 'policy/batch_normalization/gamma/RMSProp:0' shape=(16,) dtype=float32_ref>,\n",
       " <tf.Variable 'policy/batch_normalization/gamma/RMSProp_1:0' shape=(16,) dtype=float32_ref>,\n",
       " <tf.Variable 'policy/batch_normalization/beta/RMSProp:0' shape=(16,) dtype=float32_ref>,\n",
       " <tf.Variable 'policy/batch_normalization/beta/RMSProp_1:0' shape=(16,) dtype=float32_ref>,\n",
       " <tf.Variable 'policy/dense/kernel/RMSProp:0' shape=(16, 32) dtype=float32_ref>,\n",
       " <tf.Variable 'policy/dense/kernel/RMSProp_1:0' shape=(16, 32) dtype=float32_ref>,\n",
       " <tf.Variable 'policy/dense/bias/RMSProp:0' shape=(32,) dtype=float32_ref>,\n",
       " <tf.Variable 'policy/dense/bias/RMSProp_1:0' shape=(32,) dtype=float32_ref>,\n",
       " <tf.Variable 'policy/dense_1/kernel/RMSProp:0' shape=(32, 32) dtype=float32_ref>,\n",
       " <tf.Variable 'policy/dense_1/kernel/RMSProp_1:0' shape=(32, 32) dtype=float32_ref>,\n",
       " <tf.Variable 'policy/dense_1/bias/RMSProp:0' shape=(32,) dtype=float32_ref>,\n",
       " <tf.Variable 'policy/dense_1/bias/RMSProp_1:0' shape=(32,) dtype=float32_ref>,\n",
       " <tf.Variable 'policy/dense_2/kernel/RMSProp:0' shape=(32, 2) dtype=float32_ref>,\n",
       " <tf.Variable 'policy/dense_2/kernel/RMSProp_1:0' shape=(32, 2) dtype=float32_ref>,\n",
       " <tf.Variable 'policy/dense_2/bias/RMSProp:0' shape=(2,) dtype=float32_ref>,\n",
       " <tf.Variable 'policy/dense_2/bias/RMSProp_1:0' shape=(2,) dtype=float32_ref>,\n",
       " <tf.Variable 'Q/batch_normalization/gamma/RMSProp:0' shape=(18,) dtype=float32_ref>,\n",
       " <tf.Variable 'Q/batch_normalization/gamma/RMSProp_1:0' shape=(18,) dtype=float32_ref>,\n",
       " <tf.Variable 'Q/batch_normalization/beta/RMSProp:0' shape=(18,) dtype=float32_ref>,\n",
       " <tf.Variable 'Q/batch_normalization/beta/RMSProp_1:0' shape=(18,) dtype=float32_ref>,\n",
       " <tf.Variable 'Q/dense/kernel/RMSProp:0' shape=(18, 32) dtype=float32_ref>,\n",
       " <tf.Variable 'Q/dense/kernel/RMSProp_1:0' shape=(18, 32) dtype=float32_ref>,\n",
       " <tf.Variable 'Q/dense/bias/RMSProp:0' shape=(32,) dtype=float32_ref>,\n",
       " <tf.Variable 'Q/dense/bias/RMSProp_1:0' shape=(32,) dtype=float32_ref>,\n",
       " <tf.Variable 'Q/dense_1/kernel/RMSProp:0' shape=(32, 32) dtype=float32_ref>,\n",
       " <tf.Variable 'Q/dense_1/kernel/RMSProp_1:0' shape=(32, 32) dtype=float32_ref>,\n",
       " <tf.Variable 'Q/dense_1/bias/RMSProp:0' shape=(32,) dtype=float32_ref>,\n",
       " <tf.Variable 'Q/dense_1/bias/RMSProp_1:0' shape=(32,) dtype=float32_ref>,\n",
       " <tf.Variable 'Q/dense_2/kernel/RMSProp:0' shape=(32, 1) dtype=float32_ref>,\n",
       " <tf.Variable 'Q/dense_2/kernel/RMSProp_1:0' shape=(32, 1) dtype=float32_ref>,\n",
       " <tf.Variable 'Q/dense_2/bias/RMSProp:0' shape=(1,) dtype=float32_ref>,\n",
       " <tf.Variable 'Q/dense_2/bias/RMSProp_1:0' shape=(1,) dtype=float32_ref>]"
      ]
     },
     "execution_count": 20,
     "metadata": {},
     "output_type": "execute_result"
    }
   ],
   "source": [
    "tf.global_variables()"
   ]
  },
  {
   "cell_type": "code",
   "execution_count": 21,
   "metadata": {
    "scrolled": false
   },
   "outputs": [],
   "source": [
    "for c in sorted(variable_vals_df.columns):\n",
    "    variable_vals_df[c].apply(np.log).plot(title=c)\n",
    "    plt.show()"
   ]
  },
  {
   "cell_type": "code",
   "execution_count": null,
   "metadata": {},
   "outputs": [],
   "source": []
  }
 ],
 "metadata": {
  "kernelspec": {
   "display_name": "Python 3",
   "language": "python",
   "name": "python3"
  },
  "language_info": {
   "codemirror_mode": {
    "name": "ipython",
    "version": 3
   },
   "file_extension": ".py",
   "mimetype": "text/x-python",
   "name": "python",
   "nbconvert_exporter": "python",
   "pygments_lexer": "ipython3",
   "version": "3.7.3"
  }
 },
 "nbformat": 4,
 "nbformat_minor": 2
}
